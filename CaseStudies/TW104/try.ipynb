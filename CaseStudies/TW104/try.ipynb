{
 "cells": [
  {
   "cell_type": "code",
   "execution_count": 1,
   "metadata": {
    "collapsed": true
   },
   "outputs": [],
   "source": [
    "import requests"
   ]
  },
  {
   "cell_type": "code",
   "execution_count": 2,
   "metadata": {
    "collapsed": true
   },
   "outputs": [],
   "source": [
    "from pyquery import PyQuery"
   ]
  },
  {
   "cell_type": "code",
   "execution_count": 3,
   "metadata": {
    "collapsed": false
   },
   "outputs": [],
   "source": [
    "res = requests.get(\"http://www.104.com.tw/jobbank/joblist/auto_joblist.cfm?auto=1&jobsource=n104bank1&ro=0&keyword=data+science&order=1&asc=0&page=1&psl=N_B\")"
   ]
  },
  {
   "cell_type": "code",
   "execution_count": 4,
   "metadata": {
    "collapsed": true
   },
   "outputs": [],
   "source": [
    "S = PyQuery(res.text)"
   ]
  },
  {
   "cell_type": "code",
   "execution_count": null,
   "metadata": {
    "collapsed": true
   },
   "outputs": [],
   "source": []
  },
  {
   "cell_type": "code",
   "execution_count": 22,
   "metadata": {
    "collapsed": false
   },
   "outputs": [
    {
     "name": "stdout",
     "output_type": "stream",
     "text": [
      "{'url': '/job/?jobno=4mow8&jobsource=104_hotorder', 'meta': {'url': 'http://www.104.com.tw/job/?jobno=4mow8&jobsource=google', 'startDate': '2015-10-15'}, 'name': u'Sr. Applications Engineer-Photomask Inspection \\u8cc7\\u6df1\\u61c9\\u7528\\u88fd\\u7a0b\\u5de5\\u7a0b\\u5e2b(\\u5149\\u7f69\\u6aa2\\u6e2c)', 'area': u'\\u65b0\\u7af9\\u7e23\\u7af9\\u5317\\u5e02'}\n",
      "{'url': '/job/?jobno=3os7h&jobsource=104_hotorder', 'meta': {'url': 'http://www.104.com.tw/job/?jobno=3os7h&jobsource=google', 'startDate': '2015-10-15'}, 'name': 'Software Engineer (JAVA)', 'area': u'\\u53f0\\u5317\\u5e02\\u5927\\u5b89\\u5340'}\n",
      "{'url': '/job/?jobno=46j00&jobsource=n104bank1&hotjob_chr=', 'meta': {}, 'name': 'Data Backend Engineer (Hadoop, Spark related)', 'area': u'\\u53f0\\u5317\\u5e02\\u4fe1\\u7fa9\\u5340'}\n",
      "{'url': '/job/?jobno=41fd2&jobsource=n104bank1&hotjob_chr=', 'meta': {}, 'name': 'CITC_Big Data Technology Researcher', 'area': u'\\u65b0\\u7af9\\u7e23\\u7af9\\u6771\\u93ae'}\n",
      "{'url': '/job/?jobno=4dsi6&jobsource=n104bank1&hotjob_chr=', 'meta': {}, 'name': 'Senior Engineering, Data Scientist', 'area': u'\\u53f0\\u5317\\u5e02\\u5167\\u6e56\\u5340'}\n",
      "{'url': '/job/?jobno=4l81p&jobsource=n104bank1&hotjob_chr=', 'meta': {}, 'name': '2015-18814: Sr. Data Analyst', 'area': u'\\u53f0\\u5317\\u5e02\\u5927\\u5b89\\u5340'}\n",
      "{'url': '/job/?jobno=4k444&jobsource=n104bank1&hotjob_chr=', 'meta': {}, 'name': 'Algorithm Engineer/ Data Scientist(voice)', 'area': u'\\u65b0\\u5317\\u5e02\\u65b0\\u5e97\\u5340'}\n",
      "{'url': '/job/?jobno=3wst4&jobsource=n104bank1&hotjob_chr=', 'meta': {}, 'name': 'Data Scientist', 'area': u'\\u65b0\\u5317\\u5e02\\u65b0\\u5e97\\u5340'}\n",
      "{'url': '/job/?jobno=4khbo&jobsource=n104bank1&hotjob_chr=', 'meta': {}, 'name': 'Data Analyst', 'area': u'\\u4e0a\\u6d77\\u5e02'}\n",
      "{'url': '/job/?jobno=41fdg&jobsource=n104bank1&hotjob_chr=', 'meta': {}, 'name': 'CITC_Technical Lead for Big Data Technology', 'area': u'\\u65b0\\u7af9\\u7e23\\u7af9\\u6771\\u93ae'}\n",
      "{'url': '/job/?jobno=4a6ci&jobsource=n104bank1&hotjob_chr=', 'meta': {}, 'name': u'Big Data \\u8edf\\u9ad4\\u5de5\\u7a0b\\u5e2b_4437', 'area': u'\\u53f0\\u5317\\u5e02\\u5317\\u6295\\u5340'}\n",
      "{'url': '/job/?jobno=45j1l&jobsource=n104bank1&hotjob_chr=', 'meta': {}, 'name': '2015-18675: Sr. Engineer ( Data Researcher)', 'area': u'\\u53f0\\u5317\\u5e02\\u5927\\u5b89\\u5340'}\n",
      "{'url': '/job/?jobno=4kgox&jobsource=n104bank1&hotjob_chr=', 'meta': {}, 'name': u'Senior Data Engineer_\\u53f0\\u9054\\u7814\\u7a76\\u9662(\\u53f0\\u5317)', 'area': u'\\u53f0\\u5317\\u5e02\\u5167\\u6e56\\u5340'}\n",
      "{'url': '/job/?jobno=4hgok&jobsource=n104bank1&hotjob_chr=', 'meta': {}, 'name': 'Sr. Data Backend Engineer (Hadoop, Spark related) - 213 HC', 'area': u'\\u53f0\\u5317\\u5e02\\u5927\\u5b89\\u5340'}\n",
      "{'url': '/job/?jobno=4jyj4&jobsource=n104bank1&hotjob_chr=', 'meta': {}, 'name': 'Analytic Data Scientist', 'area': u'\\u65b0\\u5317\\u5e02\\u677f\\u6a4b\\u5340'}\n",
      "{'url': '/job/?jobno=4hvir&jobsource=n104bank1&hotjob_chr=', 'meta': {}, 'name': 'Analytic Data Scientist', 'area': u'\\u65b0\\u5317\\u5e02\\u677f\\u6a4b\\u5340'}\n",
      "{'url': '/job/?jobno=4mk64&jobsource=n104bank1&hotjob_chr=', 'meta': {}, 'name': u'Data Engineer \\u8cc7\\u6599\\u5206\\u6790\\u5de5\\u7a0b\\u5e2b', 'area': u'\\u65b0\\u5317\\u5e02\\u4e2d\\u548c\\u5340'}\n",
      "{'url': '/job/?jobno=4jvpp&jobsource=n104bank1&hotjob_chr=', 'meta': {}, 'name': u'[\\u5b78\\u751f\\u5be6\\u7fd2] Calling for Computer Science and Electrical Engineering Students!', 'area': u'\\u53f0\\u5317\\u5e02\\u677e\\u5c71\\u5340'}\n",
      "{'url': '/job/?jobno=4mmcq&jobsource=n104bank1&hotjob_chr=', 'meta': {}, 'name': 'IW-Sr. Data Researcher', 'area': u'\\u53f0\\u5317\\u5e02\\u4fe1\\u7fa9\\u5340'}\n",
      "{'url': '/job/?jobno=4lkah&jobsource=n104bank1&hotjob_chr=', 'meta': {}, 'name': '2015-18862 Technical Project Manager ( Data Center Service team, DCS)', 'area': u'\\u53f0\\u5317\\u5e02\\u5927\\u5b89\\u5340'}\n",
      "{'url': '/job/?jobno=4dsi9&jobsource=n104bank1&hotjob_chr=', 'meta': {}, 'name': u'Senior Software Engineer, Big Data \\uff1b\\u4e0a\\u73ed\\u5730\\u9ede:\\u53f0\\u5317\\u5e02', 'area': u'\\u53f0\\u5317\\u5e02\\u5167\\u6e56\\u5340'}\n",
      "{'url': '/job/?jobno=4kgzs&jobsource=n104bank1&hotjob_chr=', 'meta': {}, 'name': '2015-18778 Solution Architect ( Data Center Service team, DCS)', 'area': u'\\u53f0\\u5317\\u5e02\\u5927\\u5b89\\u5340'}\n"
     ]
    }
   ],
   "source": [
    "for d in S(\".j_cont\").map(lambda i,e: {\"name\":PyQuery(e)(\".job_name\").text(),\n",
    "                                       \"url\":PyQuery(e)(\"a\").attr(\"href\"),\n",
    "                                       \"meta\":dict(PyQuery(e)(\"meta\").map(lambda ii,ee:(PyQuery(ee).attr(\"itemprop\"),PyQuery(ee).attr(\"content\")))),\n",
    "                                       \"area\":PyQuery(e)(\".area_summary\").text()}):\n",
    "    print d"
   ]
  },
  {
   "cell_type": "code",
   "execution_count": null,
   "metadata": {
    "collapsed": true
   },
   "outputs": [],
   "source": []
  }
 ],
 "metadata": {
  "kernelspec": {
   "display_name": "Python 2",
   "language": "python",
   "name": "python2"
  },
  "language_info": {
   "codemirror_mode": {
    "name": "ipython",
    "version": 2
   },
   "file_extension": ".py",
   "mimetype": "text/x-python",
   "name": "python",
   "nbconvert_exporter": "python",
   "pygments_lexer": "ipython2",
   "version": "2.7.10"
  }
 },
 "nbformat": 4,
 "nbformat_minor": 0
}
